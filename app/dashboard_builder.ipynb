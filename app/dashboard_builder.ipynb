{
 "cells": [
  {
   "cell_type": "code",
   "execution_count": 1,
   "id": "e99ba730-151d-443d-b293-e6aa9d3c4a7e",
   "metadata": {},
   "outputs": [],
   "source": [
    "import pandas as pd\n",
    "import numpy as np\n",
    "import dash\n",
    "from jupyter_dash import JupyterDash\n",
    "from dash import dcc\n",
    "from dash import html\n",
    "from dash.dependencies import Input, Output, State\n",
    "import dash_bootstrap_components as dbc"
   ]
  },
  {
   "cell_type": "code",
   "execution_count": 2,
   "id": "a8966d56-10bf-4f9e-90b5-21a971616c90",
   "metadata": {},
   "outputs": [],
   "source": [
    "#external_stylesheets = ['https://codepen.io/chriddyp/pen/bWLwgP.css']\n",
    "external_stylesheets = [dbc.themes.LITERA]"
   ]
  },
  {
   "cell_type": "markdown",
   "id": "d934cba7-bc63-43a2-b895-59ea05deca68",
   "metadata": {},
   "source": [
    "## Initialize the app"
   ]
  },
  {
   "cell_type": "code",
   "execution_count": 3,
   "id": "0eb807e8-c364-49ea-8429-4ee6ce5cb278",
   "metadata": {},
   "outputs": [],
   "source": [
    "app = JupyterDash(__name__, external_stylesheets=external_stylesheets)"
   ]
  },
  {
   "cell_type": "markdown",
   "id": "2fa1dd8d-47c0-4404-8e3a-318492d22ec8",
   "metadata": {},
   "source": [
    "## Specify the contents of the dashboard"
   ]
  },
  {
   "cell_type": "code",
   "execution_count": 4,
   "id": "1729dc42-0ce0-44bd-b2e3-f6e79f68cec0",
   "metadata": {},
   "outputs": [],
   "source": [
    "app.layout = html.Div(\n",
    "[\n",
    "    html.H1(\"The Fast and the Dashboard\"),\n",
    "    \n",
    "    dcc.Input(id = 'username', type = 'text', placeholder = 'Please type your name here'),\n",
    "    \n",
    "    dcc.Markdown(id = 'countletters')\n",
    "]\n",
    "\n",
    "\n",
    ")"
   ]
  },
  {
   "cell_type": "markdown",
   "id": "49e52d49-cc72-477a-a0d0-aa2fdcd9a3a9",
   "metadata": {},
   "source": [
    "## Callbacks"
   ]
  },
  {
   "cell_type": "code",
   "execution_count": 5,
   "id": "7b53b2ff-55be-4e2d-a0e8-16559d6eee1f",
   "metadata": {},
   "outputs": [],
   "source": [
    "#@app.callback([outputs to go back to the dashboard], [inputs from the dashboard to the next function])\n",
    "\n",
    "@app.callback(Output(component_id = 'countletters', component_property = 'children'), \n",
    "              Input(component_id = 'username', component_property = 'value'))\n",
    "\n",
    "def countletters(name = ''):\n",
    "    n = str(name).replace(' ', '')\n",
    "    return f\"You have {len(n)} letters in your name dude!\"\n",
    "\n",
    "\n"
   ]
  },
  {
   "cell_type": "raw",
   "id": "9f2ccba6-36be-4574-816f-dc0d79e326c4",
   "metadata": {},
   "source": [
    "function(input)\n",
    "variable.method()\n",
    "\n",
    "@decorator\n",
    "\n",
    "the function the decorator applies to"
   ]
  },
  {
   "cell_type": "markdown",
   "id": "1270c707-9ed5-4033-b7b6-71abc308272f",
   "metadata": {},
   "source": [
    "## Run the app"
   ]
  },
  {
   "cell_type": "code",
   "execution_count": 6,
   "id": "41375843-548c-42ae-8d35-93d1208de7df",
   "metadata": {},
   "outputs": [
    {
     "name": "stdout",
     "output_type": "stream",
     "text": [
      "Dash app running on http://0.0.0.0:8050/\n"
     ]
    }
   ],
   "source": [
    "if __name__== \"__main__\":\n",
    "    app.run_server(mode= 'external', host = \"0.0.0.0\", debug=True)"
   ]
  },
  {
   "cell_type": "code",
   "execution_count": null,
   "id": "1bbad55a-6c0a-49b5-baaa-0eddecd9e3da",
   "metadata": {},
   "outputs": [],
   "source": []
  }
 ],
 "metadata": {
  "kernelspec": {
   "display_name": "Python 3 (ipykernel)",
   "language": "python",
   "name": "python3"
  },
  "language_info": {
   "codemirror_mode": {
    "name": "ipython",
    "version": 3
   },
   "file_extension": ".py",
   "mimetype": "text/x-python",
   "name": "python",
   "nbconvert_exporter": "python",
   "pygments_lexer": "ipython3",
   "version": "3.11.0"
  }
 },
 "nbformat": 4,
 "nbformat_minor": 5
}
