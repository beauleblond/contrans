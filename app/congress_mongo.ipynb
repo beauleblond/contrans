{
 "cells": [
  {
   "cell_type": "code",
   "execution_count": 1,
   "id": "ba713192-6d93-4a72-a65e-9a35553b3fa2",
   "metadata": {},
   "outputs": [],
   "source": [
    "import pandas as pd\n",
    "import numpy as np\n",
    "import requests\n",
    "import os\n",
    "import json \n",
    "from bs4 import BeautifulSoup\n",
    "import pymongo"
   ]
  },
  {
   "cell_type": "code",
   "execution_count": 2,
   "id": "f6819d32-c5a2-4c98-89dd-c8c4ecbad07b",
   "metadata": {},
   "outputs": [],
   "source": [
    "import getdata"
   ]
  },
  {
   "cell_type": "code",
   "execution_count": 3,
   "id": "725ce680-cf69-4791-890e-92a374398080",
   "metadata": {},
   "outputs": [],
   "source": [
    "propublica_token = os.environ['propublica_token']"
   ]
  },
  {
   "cell_type": "code",
   "execution_count": 4,
   "id": "0bf8cd5d-ee24-46f9-9e32-b8fe4d612798",
   "metadata": {},
   "outputs": [],
   "source": [
    "user_agent = getdata.get_useragent()"
   ]
  },
  {
   "cell_type": "code",
   "execution_count": 9,
   "id": "b013b8ea-5fa6-4978-b71e-4071cf29fcf7",
   "metadata": {},
   "outputs": [],
   "source": [
    "bills = getdata.get_bills_pp(propublica_token, user_agent, email='bwl5cd@virginia.edu', offset=0)"
   ]
  },
  {
   "cell_type": "code",
   "execution_count": 10,
   "id": "9228a30a-5b18-4e44-b991-86542637f1ba",
   "metadata": {},
   "outputs": [
    {
     "data": {
      "text/plain": [
       "20"
      ]
     },
     "execution_count": 10,
     "metadata": {},
     "output_type": "execute_result"
    }
   ],
   "source": [
    "bills['results'][0]['num_results']"
   ]
  },
  {
   "cell_type": "code",
   "execution_count": null,
   "id": "a1cb63a8-7050-42e5-b01c-a30f26865a51",
   "metadata": {},
   "outputs": [],
   "source": []
  }
 ],
 "metadata": {
  "kernelspec": {
   "display_name": "Python 3 (ipykernel)",
   "language": "python",
   "name": "python3"
  },
  "language_info": {
   "codemirror_mode": {
    "name": "ipython",
    "version": 3
   },
   "file_extension": ".py",
   "mimetype": "text/x-python",
   "name": "python",
   "nbconvert_exporter": "python",
   "pygments_lexer": "ipython3",
   "version": "3.11.0"
  }
 },
 "nbformat": 4,
 "nbformat_minor": 5
}
